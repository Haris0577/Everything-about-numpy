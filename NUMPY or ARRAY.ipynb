{
 "cells": [
  {
   "cell_type": "markdown",
   "id": "071544b0",
   "metadata": {},
   "source": [
    "# NUMPY\n",
    "# ARRAY (List of elements)\n",
    "### \n",
    "## 1-1D ARRAY\n",
    "#### i-1D Array row wise "
   ]
  },
  {
   "cell_type": "code",
   "execution_count": 45,
   "id": "6701246c",
   "metadata": {},
   "outputs": [
    {
     "data": {
      "text/plain": [
       "(array([[1, 2, 3, 4, 5]]),\n",
       " array(['H', 'a', 'r', 'i', 's', ' ', 'K', 'h', 'a', 'n'], dtype='<U1'))"
      ]
     },
     "execution_count": 45,
     "metadata": {},
     "output_type": "execute_result"
    }
   ],
   "source": [
    "# 1D array are called vectors OR lIST\n",
    "# 1D array row wise\n",
    "import numpy as np\n",
    "a=np.array([[1,2,3,4,5]])\n",
    "b=np.array([\"H\",\"a\",\"r\",\"i\",\"s\",\" \",\"K\",\"h\",\"a\",\"n\"])\n",
    "a,b"
   ]
  },
  {
   "cell_type": "markdown",
   "id": "2fa0dc6f",
   "metadata": {},
   "source": [
    "#### ii-1D array column wise"
   ]
  },
  {
   "cell_type": "code",
   "execution_count": 38,
   "id": "2cedbe13",
   "metadata": {},
   "outputs": [
    {
     "data": {
      "text/plain": [
       "(array([[1],\n",
       "        [2],\n",
       "        [3],\n",
       "        [4],\n",
       "        [5]]),\n",
       " array([['H'],\n",
       "        ['a'],\n",
       "        ['r'],\n",
       "        ['i'],\n",
       "        ['s'],\n",
       "        ['  '],\n",
       "        ['K'],\n",
       "        ['h'],\n",
       "        ['a'],\n",
       "        ['n']], dtype='<U2'))"
      ]
     },
     "execution_count": 38,
     "metadata": {},
     "output_type": "execute_result"
    }
   ],
   "source": [
    "import numpy as np\n",
    "a=np.array([[1],[2],[3],[4],[5]])\n",
    "b=np.array([[\"H\"],[\"a\"],[\"r\"],[\"i\"],[\"s\"],[\"  \"],[\"K\"],[\"h\"],[\"a\"],[\"n\"]])\n",
    "a, b"
   ]
  },
  {
   "cell_type": "markdown",
   "id": "3296ce89",
   "metadata": {},
   "source": [
    "#### iii-zeros ki Array"
   ]
  },
  {
   "cell_type": "code",
   "execution_count": 56,
   "id": "700af5ff",
   "metadata": {
    "scrolled": true
   },
   "outputs": [
    {
     "data": {
      "text/plain": [
       "array([0., 0.])"
      ]
     },
     "execution_count": 56,
     "metadata": {},
     "output_type": "execute_result"
    }
   ],
   "source": [
    "d=np.zeros(2)\n",
    "d"
   ]
  },
  {
   "cell_type": "markdown",
   "id": "9de3fda3",
   "metadata": {},
   "source": [
    "#### iv-Ones ki array"
   ]
  },
  {
   "cell_type": "code",
   "execution_count": 58,
   "id": "6b78f2ff",
   "metadata": {},
   "outputs": [
    {
     "data": {
      "text/plain": [
       "array([1., 1.])"
      ]
     },
     "execution_count": 58,
     "metadata": {},
     "output_type": "execute_result"
    }
   ],
   "source": [
    "d=np.ones(2)\n",
    "d"
   ]
  },
  {
   "cell_type": "markdown",
   "id": "b692397f",
   "metadata": {},
   "source": [
    "#### v-Array with range of elements"
   ]
  },
  {
   "cell_type": "code",
   "execution_count": 61,
   "id": "5752e60c",
   "metadata": {},
   "outputs": [
    {
     "data": {
      "text/plain": [
       "array([0, 1, 2, 3, 4, 5])"
      ]
     },
     "execution_count": 61,
     "metadata": {},
     "output_type": "execute_result"
    }
   ],
   "source": [
    "e=np.arange(6)\n",
    "e"
   ]
  },
  {
   "cell_type": "markdown",
   "id": "ced0043a",
   "metadata": {},
   "source": [
    "#### vi-Array with range from one number to another"
   ]
  },
  {
   "cell_type": "code",
   "execution_count": 64,
   "id": "9fc2141e",
   "metadata": {
    "scrolled": true
   },
   "outputs": [
    {
     "data": {
      "text/plain": [
       "array([ 3,  4,  5,  6,  7,  8,  9, 10, 11, 12, 13, 14, 15, 16, 17, 18])"
      ]
     },
     "execution_count": 64,
     "metadata": {},
     "output_type": "execute_result"
    }
   ],
   "source": [
    "e=np.arange(3,19)\n",
    "e"
   ]
  },
  {
   "cell_type": "markdown",
   "id": "dcda1376",
   "metadata": {},
   "source": [
    "#### vii-Array with range and step size"
   ]
  },
  {
   "cell_type": "code",
   "execution_count": 65,
   "id": "125a6d0d",
   "metadata": {
    "scrolled": true
   },
   "outputs": [
    {
     "data": {
      "text/plain": [
       "array([ 5, 10, 15, 20, 25, 30, 35, 40, 45])"
      ]
     },
     "execution_count": 65,
     "metadata": {},
     "output_type": "execute_result"
    }
   ],
   "source": [
    "e=np.arange(5,50,5)\n",
    "e"
   ]
  },
  {
   "cell_type": "markdown",
   "id": "e393c281",
   "metadata": {},
   "source": [
    "#### viii-Linearly spacced arrays"
   ]
  },
  {
   "cell_type": "code",
   "execution_count": 71,
   "id": "286c77e0",
   "metadata": {},
   "outputs": [
    {
     "data": {
      "text/plain": [
       "array([ 2.,  4.,  6.,  8., 10., 12., 14., 16., 18., 20.])"
      ]
     },
     "execution_count": 71,
     "metadata": {},
     "output_type": "execute_result"
    }
   ],
   "source": [
    "e=np.linspace(2,20,num=10)\n",
    "e"
   ]
  },
  {
   "cell_type": "markdown",
   "id": "1c79ecb6",
   "metadata": {},
   "source": [
    "#### ix-Specifying data types in array"
   ]
  },
  {
   "cell_type": "code",
   "execution_count": 72,
   "id": "131301c9",
   "metadata": {},
   "outputs": [
    {
     "data": {
      "text/plain": [
       "array([1, 1, 1, 1, 1, 1], dtype=int8)"
      ]
     },
     "execution_count": 72,
     "metadata": {},
     "output_type": "execute_result"
    }
   ],
   "source": [
    "e=np.ones(6,dtype=np.int8)\n",
    "e"
   ]
  },
  {
   "cell_type": "code",
   "execution_count": 73,
   "id": "25737d6f",
   "metadata": {},
   "outputs": [
    {
     "data": {
      "text/plain": [
       "array([1., 1., 1., 1., 1., 1.])"
      ]
     },
     "execution_count": 73,
     "metadata": {},
     "output_type": "execute_result"
    }
   ],
   "source": [
    "e=np.ones(6,dtype=np.float64)\n",
    "e"
   ]
  },
  {
   "cell_type": "markdown",
   "id": "fc8f9698",
   "metadata": {},
   "source": [
    "## 2-2D Array\n",
    "#### i-(2D Array  are called matrix) OR (List of Lists)"
   ]
  },
  {
   "cell_type": "code",
   "execution_count": 2,
   "id": "f634bb86",
   "metadata": {},
   "outputs": [
    {
     "data": {
      "text/plain": [
       "array([[ 1,  2,  3,  4,  5],\n",
       "       [ 6,  7,  8,  9, 10]])"
      ]
     },
     "execution_count": 2,
     "metadata": {},
     "output_type": "execute_result"
    }
   ],
   "source": [
    "import numpy as np\n",
    "b=np.array([[1,2,3,4,5],[6,7,8,9,10]])\n",
    "b"
   ]
  },
  {
   "cell_type": "code",
   "execution_count": 3,
   "id": "4164c552",
   "metadata": {
    "scrolled": true
   },
   "outputs": [
    {
     "data": {
      "text/plain": [
       "array([[ 1,  2,  3,  4,  5],\n",
       "       [ 6,  7,  8,  9, 10],\n",
       "       [11, 12, 13, 14, 15]])"
      ]
     },
     "execution_count": 3,
     "metadata": {},
     "output_type": "execute_result"
    }
   ],
   "source": [
    "import numpy as np\n",
    "b=np.array([[1,2,3,4,5],[6,7,8,9,10],[11,12,13,14,15]])\n",
    "b"
   ]
  },
  {
   "cell_type": "markdown",
   "id": "ecbc8bfe",
   "metadata": {},
   "source": [
    "#### ii zeros ki 2d array"
   ]
  },
  {
   "cell_type": "code",
   "execution_count": 75,
   "id": "f4f546a6",
   "metadata": {
    "scrolled": true
   },
   "outputs": [
    {
     "data": {
      "text/plain": [
       "array([[0., 0., 0., 0., 0., 0.],\n",
       "       [0., 0., 0., 0., 0., 0.],\n",
       "       [0., 0., 0., 0., 0., 0.],\n",
       "       [0., 0., 0., 0., 0., 0.]])"
      ]
     },
     "execution_count": 75,
     "metadata": {},
     "output_type": "execute_result"
    }
   ],
   "source": [
    "a=np.zeros((4,6))\n",
    "a"
   ]
  },
  {
   "cell_type": "markdown",
   "id": "1164e6d7",
   "metadata": {},
   "source": [
    "#### iii-Ones ki 2d array"
   ]
  },
  {
   "cell_type": "code",
   "execution_count": 76,
   "id": "27ed75fd",
   "metadata": {},
   "outputs": [
    {
     "data": {
      "text/plain": [
       "array([[1., 1., 1., 1., 1., 1.],\n",
       "       [1., 1., 1., 1., 1., 1.]])"
      ]
     },
     "execution_count": 76,
     "metadata": {},
     "output_type": "execute_result"
    }
   ],
   "source": [
    "a=np.ones((2,6))\n",
    "a"
   ]
  },
  {
   "cell_type": "code",
   "execution_count": null,
   "id": "7a58b5c0",
   "metadata": {},
   "outputs": [],
   "source": []
  },
  {
   "cell_type": "markdown",
   "id": "ab612ee7",
   "metadata": {},
   "source": [
    "## Type of Array"
   ]
  },
  {
   "cell_type": "code",
   "execution_count": 21,
   "id": "f7354057",
   "metadata": {
    "scrolled": true
   },
   "outputs": [
    {
     "data": {
      "text/plain": [
       "numpy.ndarray"
      ]
     },
     "execution_count": 21,
     "metadata": {},
     "output_type": "execute_result"
    }
   ],
   "source": [
    "type(a)"
   ]
  },
  {
   "cell_type": "markdown",
   "id": "d91a417c",
   "metadata": {},
   "source": [
    "## Length of Array"
   ]
  },
  {
   "cell_type": "code",
   "execution_count": 39,
   "id": "56a6693b",
   "metadata": {},
   "outputs": [
    {
     "data": {
      "text/plain": [
       "(5, 10)"
      ]
     },
     "execution_count": 39,
     "metadata": {},
     "output_type": "execute_result"
    }
   ],
   "source": [
    "len(a),len(b)"
   ]
  },
  {
   "cell_type": "markdown",
   "id": "a73da3d5",
   "metadata": {},
   "source": [
    "## Indexing in Array"
   ]
  },
  {
   "cell_type": "code",
   "execution_count": 42,
   "id": "ab3b647e",
   "metadata": {
    "scrolled": true
   },
   "outputs": [
    {
     "data": {
      "text/plain": [
       "array([1])"
      ]
     },
     "execution_count": 42,
     "metadata": {},
     "output_type": "execute_result"
    }
   ],
   "source": [
    "# indexing of 1st array\n",
    "a[0]"
   ]
  },
  {
   "cell_type": "code",
   "execution_count": 47,
   "id": "3ba7695b",
   "metadata": {},
   "outputs": [
    {
     "data": {
      "text/plain": [
       "'H'"
      ]
     },
     "execution_count": 47,
     "metadata": {},
     "output_type": "execute_result"
    }
   ],
   "source": [
    "# indexing of 2nd array\n",
    "b[0]"
   ]
  },
  {
   "cell_type": "code",
   "execution_count": 48,
   "id": "e06edaab",
   "metadata": {},
   "outputs": [
    {
     "data": {
      "text/plain": [
       "array(['H', 'a', 'r', 'i', 's', ' ', 'K', 'h', 'a', 'n'], dtype='<U1')"
      ]
     },
     "execution_count": 48,
     "metadata": {},
     "output_type": "execute_result"
    }
   ],
   "source": [
    "# printing whole array\n",
    "b[0:]"
   ]
  },
  {
   "cell_type": "markdown",
   "id": "c23d9b2d",
   "metadata": {},
   "source": [
    "## Array atributes\n",
    "- Dimensions are called axis"
   ]
  },
  {
   "cell_type": "code",
   "execution_count": 54,
   "id": "d1d4e39e",
   "metadata": {
    "scrolled": true
   },
   "outputs": [
    {
     "data": {
      "text/plain": [
       "array([[4, 4, 4],\n",
       "       [5, 5, 5]])"
      ]
     },
     "execution_count": 54,
     "metadata": {},
     "output_type": "execute_result"
    }
   ],
   "source": [
    "c=np.array([[4,4,4],[5,5,5]])\n",
    "c\n",
    "# - first axis has length 2\n",
    "# -second axis has length 3"
   ]
  },
  {
   "cell_type": "markdown",
   "id": "459f607c",
   "metadata": {},
   "source": [
    "# 3D Array\n",
    "### For 3D or higher array the term tensor is used\n",
    "#### i- making and rehaping 3D array"
   ]
  },
  {
   "cell_type": "code",
   "execution_count": 82,
   "id": "2b006ab1",
   "metadata": {
    "scrolled": true
   },
   "outputs": [
    {
     "data": {
      "text/plain": [
       "array([[[ 0,  1,  2,  3],\n",
       "        [ 4,  5,  6,  7],\n",
       "        [ 8,  9, 10, 11]],\n",
       "\n",
       "       [[12, 13, 14, 15],\n",
       "        [16, 17, 18, 19],\n",
       "        [20, 21, 22, 23]]])"
      ]
     },
     "execution_count": 82,
     "metadata": {},
     "output_type": "execute_result"
    }
   ],
   "source": [
    "a=np.arange(24).reshape(2,3,4)\n",
    "a"
   ]
  },
  {
   "cell_type": "code",
   "execution_count": 83,
   "id": "5eaadfa5",
   "metadata": {},
   "outputs": [
    {
     "data": {
      "text/plain": [
       "array([[[ 0,  1,  2,  3,  4],\n",
       "        [ 5,  6,  7,  8,  9],\n",
       "        [10, 11, 12, 13, 14]],\n",
       "\n",
       "       [[15, 16, 17, 18, 19],\n",
       "        [20, 21, 22, 23, 24],\n",
       "        [25, 26, 27, 28, 29]]])"
      ]
     },
     "execution_count": 83,
     "metadata": {},
     "output_type": "execute_result"
    }
   ],
   "source": [
    "a=np.arange(30).reshape(2,3,5)\n",
    "a"
   ]
  }
 ],
 "metadata": {
  "kernelspec": {
   "display_name": "Python 3 (ipykernel)",
   "language": "python",
   "name": "python3"
  },
  "language_info": {
   "codemirror_mode": {
    "name": "ipython",
    "version": 3
   },
   "file_extension": ".py",
   "mimetype": "text/x-python",
   "name": "python",
   "nbconvert_exporter": "python",
   "pygments_lexer": "ipython3",
   "version": "3.9.7"
  }
 },
 "nbformat": 4,
 "nbformat_minor": 5
}
